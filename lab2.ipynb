{
 "cells": [
  {
   "cell_type": "markdown",
   "id": "b60d2681",
   "metadata": {},
   "source": [
    "## Задачи для самостоятельного решения\n",
    "***"
   ]
  },
  {
   "cell_type": "markdown",
   "id": "33f255ab",
   "metadata": {},
   "source": [
    "**1. Построить в одном графическом окне:  \n",
    "- линейный график функции $y = sin(x)$.  \n",
    "- точечный график функции $y = cos(x)$.  \n",
    "\n",
    "Аргумент функции (ось x) задается в градусах, интервал [-180,180].  \n",
    "Область графика должна името название, легенду, сетку, подписи осей.  \n",
    "Графики должны иметь разный цвет и вид маркера."
   ]
  },
  {
   "cell_type": "markdown",
   "id": "9c2d6a7d",
   "metadata": {},
   "source": [
    "### Исходные данные\n",
    "Текстовый файл data.txt, в котором находится отчет по продажам за месяц по трем позициям: хлеб, икра, пиво.  \n",
    "Формат данных:\n",
    "В первой строке файла - слово \"day\" и номера дней месяца по порядку (1-30).  \n",
    "В трех следующих строках - название позиции на английском и выручка за каждый день.\n",
    "### Порядок работы\n",
    "#### 1. Открыть файл и считать данные"
   ]
  },
  {
   "cell_type": "code",
   "execution_count": 23,
   "id": "fe67c6bb",
   "metadata": {},
   "outputs": [],
   "source": [
    "# здесь должен быть ваш код"
   ]
  },
  {
   "cell_type": "markdown",
   "id": "5ee1c4c0",
   "metadata": {},
   "source": [
    "#### 2. Построить в одном окне график продаж по каждой из трех позиций за месяц   "
   ]
  },
  {
   "cell_type": "code",
   "execution_count": null,
   "id": "0ec795fc",
   "metadata": {},
   "outputs": [],
   "source": [
    "# здесь должен быть ваш код"
   ]
  },
  {
   "cell_type": "markdown",
   "id": "97b6e785",
   "metadata": {},
   "source": [
    "#### 3. Построить круговую диаграмму, ображающую, какую долю дохода за месяц составляет каждая позиция."
   ]
  },
  {
   "cell_type": "code",
   "execution_count": 24,
   "id": "ab8c542b",
   "metadata": {},
   "outputs": [],
   "source": [
    "# здесь должен быть ваш код"
   ]
  },
  {
   "cell_type": "markdown",
   "id": "2639de22",
   "metadata": {},
   "source": [
    "#### 3. Построить на одном полотне три столбчатые диаграммы, ображающие среднюю продажу каждой позиции по дням недели.\n"
   ]
  },
  {
   "cell_type": "code",
   "execution_count": null,
   "id": "278c83bd",
   "metadata": {},
   "outputs": [],
   "source": [
    "# здесь должен быть ваш код"
   ]
  },
  {
   "cell_type": "markdown",
   "id": "cc6d7f7f",
   "metadata": {},
   "source": [
    "#### 4. Вывести на консоль следующую информацию:\n",
    "- максимальную и минимальную выручку за месяц с указанием даты и дня недели;\n",
    "- среднюю выручку в день"
   ]
  },
  {
   "cell_type": "code",
   "execution_count": null,
   "id": "0863e4de",
   "metadata": {},
   "outputs": [],
   "source": [
    "# здесь должен быть ваш код"
   ]
  }
 ],
 "metadata": {
  "kernelspec": {
   "display_name": "Python 3 (ipykernel)",
   "language": "python",
   "name": "python3"
  },
  "language_info": {
   "codemirror_mode": {
    "name": "ipython",
    "version": 3
   },
   "file_extension": ".py",
   "mimetype": "text/x-python",
   "name": "python",
   "nbconvert_exporter": "python",
   "pygments_lexer": "ipython3",
   "version": "3.11.5"
  }
 },
 "nbformat": 4,
 "nbformat_minor": 5
}
